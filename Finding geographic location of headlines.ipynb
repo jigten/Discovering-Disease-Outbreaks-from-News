{
 "cells": [
  {
   "cell_type": "code",
   "execution_count": 19,
   "metadata": {},
   "outputs": [],
   "source": [
    "import pandas as pd\n",
    "from geonamescache import GeonamesCache\n",
    "from unidecode import unidecode_expect_ascii"
   ]
  },
  {
   "cell_type": "code",
   "execution_count": 20,
   "metadata": {},
   "outputs": [],
   "source": [
    "def most_populous_city(city_data):\n",
    "    highest_population = 0\n",
    "    highest_population_idx = 0\n",
    "    for idx, city in enumerate(city_data):\n",
    "        for key, values in city.items():\n",
    "            if(values.get(\"population\") > highest_population):\n",
    "                highest_population = values.get(\"population\")\n",
    "                highest_population_idx = idx\n",
    "    \n",
    "    return highest_population_idx"
   ]
  },
  {
   "cell_type": "code",
   "execution_count": 21,
   "metadata": {},
   "outputs": [],
   "source": [
    "def match_city_country(city_data, country):\n",
    "    matched_idx = []\n",
    "    cntry_code = gc.get_countries_by_names()[country][\"iso\"]\n",
    "    for idx, city in enumerate(city_data):\n",
    "        for key, values in city.items():   \n",
    "            if(values.get(\"countrycode\") == cntry_code):\n",
    "                matched_idx.append(idx)\n",
    "                \n",
    "    return matched_idx"
   ]
  },
  {
   "cell_type": "code",
   "execution_count": 22,
   "metadata": {},
   "outputs": [],
   "source": [
    "def add_geo_data(geo_data, values):\n",
    "    geo_data[\"latitude\"].append(values[\"latitude\"])\n",
    "    geo_data[\"longitude\"].append(values[\"longitude\"])\n",
    "    geo_data[\"countrycode\"].append(values[\"countrycode\"])"
   ]
  },
  {
   "cell_type": "code",
   "execution_count": 23,
   "metadata": {},
   "outputs": [],
   "source": [
    "dataset = pd.read_csv(\"data/news_location_data.csv\", na_values=[\"Missing\"])"
   ]
  },
  {
   "cell_type": "code",
   "execution_count": 24,
   "metadata": {},
   "outputs": [],
   "source": [
    "dataset = dataset[dataset['cities'].notna()]"
   ]
  },
  {
   "cell_type": "code",
   "execution_count": 25,
   "metadata": {},
   "outputs": [
    {
     "data": {
      "text/plain": [
       "607"
      ]
     },
     "execution_count": 25,
     "metadata": {},
     "output_type": "execute_result"
    }
   ],
   "source": [
    "len(dataset)"
   ]
  },
  {
   "cell_type": "code",
   "execution_count": 26,
   "metadata": {},
   "outputs": [],
   "source": [
    "gc = GeonamesCache()"
   ]
  },
  {
   "cell_type": "code",
   "execution_count": 27,
   "metadata": {},
   "outputs": [
    {
     "data": {
      "text/html": [
       "<div>\n",
       "<style scoped>\n",
       "    .dataframe tbody tr th:only-of-type {\n",
       "        vertical-align: middle;\n",
       "    }\n",
       "\n",
       "    .dataframe tbody tr th {\n",
       "        vertical-align: top;\n",
       "    }\n",
       "\n",
       "    .dataframe thead th {\n",
       "        text-align: right;\n",
       "    }\n",
       "</style>\n",
       "<table border=\"1\" class=\"dataframe\">\n",
       "  <thead>\n",
       "    <tr style=\"text-align: right;\">\n",
       "      <th></th>\n",
       "      <th>headline</th>\n",
       "      <th>countries</th>\n",
       "      <th>cities</th>\n",
       "    </tr>\n",
       "  </thead>\n",
       "  <tbody>\n",
       "    <tr>\n",
       "      <th>0</th>\n",
       "      <td>Zika Outbreak Hits Miami</td>\n",
       "      <td>NaN</td>\n",
       "      <td>Miami</td>\n",
       "    </tr>\n",
       "    <tr>\n",
       "      <th>1</th>\n",
       "      <td>Could Zika Reach New York City?</td>\n",
       "      <td>NaN</td>\n",
       "      <td>New York City</td>\n",
       "    </tr>\n",
       "    <tr>\n",
       "      <th>2</th>\n",
       "      <td>First Case of Zika in Miami Beach</td>\n",
       "      <td>NaN</td>\n",
       "      <td>Miami Beach</td>\n",
       "    </tr>\n",
       "    <tr>\n",
       "      <th>3</th>\n",
       "      <td>Mystery Virus Spreads in Recife, Brazil</td>\n",
       "      <td>Brazil</td>\n",
       "      <td>Recife</td>\n",
       "    </tr>\n",
       "    <tr>\n",
       "      <th>4</th>\n",
       "      <td>Dallas man comes down with case of Zika</td>\n",
       "      <td>NaN</td>\n",
       "      <td>Dallas</td>\n",
       "    </tr>\n",
       "    <tr>\n",
       "      <th>5</th>\n",
       "      <td>Trinidad confirms first Zika case</td>\n",
       "      <td>NaN</td>\n",
       "      <td>Trinidad</td>\n",
       "    </tr>\n",
       "    <tr>\n",
       "      <th>6</th>\n",
       "      <td>Zika Concerns are Spreading in Houston</td>\n",
       "      <td>NaN</td>\n",
       "      <td>Houston</td>\n",
       "    </tr>\n",
       "    <tr>\n",
       "      <th>7</th>\n",
       "      <td>Geneve Scientists Battle to Find Cure</td>\n",
       "      <td>NaN</td>\n",
       "      <td>Geneve</td>\n",
       "    </tr>\n",
       "    <tr>\n",
       "      <th>8</th>\n",
       "      <td>The CDC in Atlanta is Growing Worried</td>\n",
       "      <td>NaN</td>\n",
       "      <td>Atlanta</td>\n",
       "    </tr>\n",
       "    <tr>\n",
       "      <th>9</th>\n",
       "      <td>Zika Infested Monkeys in Sao Paulo</td>\n",
       "      <td>NaN</td>\n",
       "      <td>Sao Paulo</td>\n",
       "    </tr>\n",
       "  </tbody>\n",
       "</table>\n",
       "</div>"
      ],
      "text/plain": [
       "                                  headline countries         cities\n",
       "0                 Zika Outbreak Hits Miami       NaN          Miami\n",
       "1          Could Zika Reach New York City?       NaN  New York City\n",
       "2        First Case of Zika in Miami Beach       NaN    Miami Beach\n",
       "3  Mystery Virus Spreads in Recife, Brazil    Brazil         Recife\n",
       "4  Dallas man comes down with case of Zika       NaN         Dallas\n",
       "5        Trinidad confirms first Zika case       NaN       Trinidad\n",
       "6   Zika Concerns are Spreading in Houston       NaN        Houston\n",
       "7    Geneve Scientists Battle to Find Cure       NaN         Geneve\n",
       "8    The CDC in Atlanta is Growing Worried       NaN        Atlanta\n",
       "9       Zika Infested Monkeys in Sao Paulo       NaN      Sao Paulo"
      ]
     },
     "execution_count": 27,
     "metadata": {},
     "output_type": "execute_result"
    }
   ],
   "source": [
    "dataset[:10]"
   ]
  },
  {
   "cell_type": "code",
   "execution_count": 28,
   "metadata": {},
   "outputs": [],
   "source": [
    "accented_names = [city['name'] for city in gc.get_cities().values()\n",
    "                  if city['name'] != unidecode_expect_ascii(city['name'])]\n",
    "\n",
    "alternative_names = {unidecode_expect_ascii(name): name\n",
    "                     for name in accented_names}"
   ]
  },
  {
   "cell_type": "code",
   "execution_count": 29,
   "metadata": {
    "scrolled": true
   },
   "outputs": [],
   "source": [
    "geo_data = {\"latitude\":[], \"longitude\":[], \"countrycode\":[]}\n",
    "\n",
    "for city, country in zip(dataset[\"cities\"], dataset[\"countries\"]):\n",
    "    city_data = gc.get_cities_by_name(city)\n",
    "\n",
    "    if (city_data):\n",
    "        if (len(city_data) > 1):\n",
    "            if (not pd.isna(country)):\n",
    "                matched_city = match_city_country(city_data, country)\n",
    "                \n",
    "                if(len(matched_city) == 1):\n",
    "                    for key, values in city_data[matched_city].items():\n",
    "                        add_geo_data(geo_data, values)\n",
    "                else:\n",
    "                    for key, values in city_data[most_populous_city(city_data[i] for i in matched_city)].items():\n",
    "                        add_geo_data(geo_data, values)\n",
    "            else:\n",
    "                for key, values in city_data[most_populous_city(city_data)].items():\n",
    "                    add_geo_data(geo_data, values)\n",
    "        else:\n",
    "            for key, values in city_data[0].items():\n",
    "                add_geo_data(geo_data, values)\n",
    "    else:\n",
    "        alt_city_data = gc.get_cities_by_name(alternative_names[city])\n",
    "        \n",
    "        if (len(alt_city_data) > 1):\n",
    "            if (not pd.isna(country)):\n",
    "                matched_city = match_city_country(alt_city_data, country)\n",
    "                \n",
    "                if(len(matched_city) == 1):\n",
    "                    for key, values in alt_city_data[matched_city].items():\n",
    "                        add_geo_data(geo_data, values)\n",
    "                else:\n",
    "                    for key, values in alt_city_data[most_populous_city(alt_city_data[i] for i in matched_city)].items():\n",
    "                        add_geo_data(geo_data, values)\n",
    "            else:\n",
    "                for key, values in alt_city_data[most_populous_city(alt_city_data)].items():\n",
    "                    add_geo_data(geo_data, values)\n",
    "        else:\n",
    "            for key, values in alt_city_data[0].items():\n",
    "                add_geo_data(geo_data, values)"
   ]
  },
  {
   "cell_type": "code",
   "execution_count": 30,
   "metadata": {
    "scrolled": true
   },
   "outputs": [
    {
     "data": {
      "text/plain": [
       "607"
      ]
     },
     "execution_count": 30,
     "metadata": {},
     "output_type": "execute_result"
    }
   ],
   "source": [
    "len(geo_data[\"countrycode\"])"
   ]
  },
  {
   "cell_type": "code",
   "execution_count": 32,
   "metadata": {},
   "outputs": [],
   "source": [
    "dataset = dataset.assign(**geo_data)"
   ]
  },
  {
   "cell_type": "code",
   "execution_count": 33,
   "metadata": {
    "scrolled": true
   },
   "outputs": [],
   "source": [
    "dataset = dataset.drop(columns=[\"countries\"])"
   ]
  },
  {
   "cell_type": "code",
   "execution_count": 35,
   "metadata": {},
   "outputs": [
    {
     "data": {
      "text/html": [
       "<div>\n",
       "<style scoped>\n",
       "    .dataframe tbody tr th:only-of-type {\n",
       "        vertical-align: middle;\n",
       "    }\n",
       "\n",
       "    .dataframe tbody tr th {\n",
       "        vertical-align: top;\n",
       "    }\n",
       "\n",
       "    .dataframe thead th {\n",
       "        text-align: right;\n",
       "    }\n",
       "</style>\n",
       "<table border=\"1\" class=\"dataframe\">\n",
       "  <thead>\n",
       "    <tr style=\"text-align: right;\">\n",
       "      <th></th>\n",
       "      <th>headline</th>\n",
       "      <th>cities</th>\n",
       "      <th>latitude</th>\n",
       "      <th>longitude</th>\n",
       "      <th>countrycode</th>\n",
       "    </tr>\n",
       "  </thead>\n",
       "  <tbody>\n",
       "    <tr>\n",
       "      <th>0</th>\n",
       "      <td>Zika Outbreak Hits Miami</td>\n",
       "      <td>Miami</td>\n",
       "      <td>25.77427</td>\n",
       "      <td>-80.19366</td>\n",
       "      <td>US</td>\n",
       "    </tr>\n",
       "    <tr>\n",
       "      <th>1</th>\n",
       "      <td>Could Zika Reach New York City?</td>\n",
       "      <td>New York City</td>\n",
       "      <td>40.71427</td>\n",
       "      <td>-74.00597</td>\n",
       "      <td>US</td>\n",
       "    </tr>\n",
       "    <tr>\n",
       "      <th>2</th>\n",
       "      <td>First Case of Zika in Miami Beach</td>\n",
       "      <td>Miami Beach</td>\n",
       "      <td>25.79065</td>\n",
       "      <td>-80.13005</td>\n",
       "      <td>US</td>\n",
       "    </tr>\n",
       "    <tr>\n",
       "      <th>3</th>\n",
       "      <td>Mystery Virus Spreads in Recife, Brazil</td>\n",
       "      <td>Recife</td>\n",
       "      <td>-8.05389</td>\n",
       "      <td>-34.88111</td>\n",
       "      <td>BR</td>\n",
       "    </tr>\n",
       "    <tr>\n",
       "      <th>4</th>\n",
       "      <td>Dallas man comes down with case of Zika</td>\n",
       "      <td>Dallas</td>\n",
       "      <td>32.78306</td>\n",
       "      <td>-96.80667</td>\n",
       "      <td>US</td>\n",
       "    </tr>\n",
       "    <tr>\n",
       "      <th>5</th>\n",
       "      <td>Trinidad confirms first Zika case</td>\n",
       "      <td>Trinidad</td>\n",
       "      <td>-14.83333</td>\n",
       "      <td>-64.90000</td>\n",
       "      <td>BO</td>\n",
       "    </tr>\n",
       "    <tr>\n",
       "      <th>6</th>\n",
       "      <td>Zika Concerns are Spreading in Houston</td>\n",
       "      <td>Houston</td>\n",
       "      <td>29.76328</td>\n",
       "      <td>-95.36327</td>\n",
       "      <td>US</td>\n",
       "    </tr>\n",
       "    <tr>\n",
       "      <th>7</th>\n",
       "      <td>Geneve Scientists Battle to Find Cure</td>\n",
       "      <td>Geneve</td>\n",
       "      <td>46.20222</td>\n",
       "      <td>6.14569</td>\n",
       "      <td>CH</td>\n",
       "    </tr>\n",
       "    <tr>\n",
       "      <th>8</th>\n",
       "      <td>The CDC in Atlanta is Growing Worried</td>\n",
       "      <td>Atlanta</td>\n",
       "      <td>33.74900</td>\n",
       "      <td>-84.38798</td>\n",
       "      <td>US</td>\n",
       "    </tr>\n",
       "    <tr>\n",
       "      <th>9</th>\n",
       "      <td>Zika Infested Monkeys in Sao Paulo</td>\n",
       "      <td>Sao Paulo</td>\n",
       "      <td>-23.54750</td>\n",
       "      <td>-46.63611</td>\n",
       "      <td>BR</td>\n",
       "    </tr>\n",
       "  </tbody>\n",
       "</table>\n",
       "</div>"
      ],
      "text/plain": [
       "                                  headline         cities  latitude  \\\n",
       "0                 Zika Outbreak Hits Miami          Miami  25.77427   \n",
       "1          Could Zika Reach New York City?  New York City  40.71427   \n",
       "2        First Case of Zika in Miami Beach    Miami Beach  25.79065   \n",
       "3  Mystery Virus Spreads in Recife, Brazil         Recife  -8.05389   \n",
       "4  Dallas man comes down with case of Zika         Dallas  32.78306   \n",
       "5        Trinidad confirms first Zika case       Trinidad -14.83333   \n",
       "6   Zika Concerns are Spreading in Houston        Houston  29.76328   \n",
       "7    Geneve Scientists Battle to Find Cure         Geneve  46.20222   \n",
       "8    The CDC in Atlanta is Growing Worried        Atlanta  33.74900   \n",
       "9       Zika Infested Monkeys in Sao Paulo      Sao Paulo -23.54750   \n",
       "\n",
       "   longitude countrycode  \n",
       "0  -80.19366          US  \n",
       "1  -74.00597          US  \n",
       "2  -80.13005          US  \n",
       "3  -34.88111          BR  \n",
       "4  -96.80667          US  \n",
       "5  -64.90000          BO  \n",
       "6  -95.36327          US  \n",
       "7    6.14569          CH  \n",
       "8  -84.38798          US  \n",
       "9  -46.63611          BR  "
      ]
     },
     "execution_count": 35,
     "metadata": {},
     "output_type": "execute_result"
    }
   ],
   "source": [
    "dataset[:10]"
   ]
  },
  {
   "cell_type": "code",
   "execution_count": 36,
   "metadata": {},
   "outputs": [],
   "source": [
    "dataset.to_csv(\"data/news_geo_data.csv\", index=False)"
   ]
  }
 ],
 "metadata": {
  "kernelspec": {
   "display_name": "Python 3",
   "language": "python",
   "name": "python3"
  },
  "language_info": {
   "codemirror_mode": {
    "name": "ipython",
    "version": 3
   },
   "file_extension": ".py",
   "mimetype": "text/x-python",
   "name": "python",
   "nbconvert_exporter": "python",
   "pygments_lexer": "ipython3",
   "version": "3.8.2"
  }
 },
 "nbformat": 4,
 "nbformat_minor": 4
}
